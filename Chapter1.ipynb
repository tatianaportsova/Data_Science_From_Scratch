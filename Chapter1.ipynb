{
 "cells": [
  {
   "cell_type": "code",
   "execution_count": null,
   "metadata": {},
   "outputs": [],
   "source": []
  },
  {
   "cell_type": "markdown",
   "metadata": {},
   "source": [
    "### Finding Key Connectors"
   ]
  },
  {
   "cell_type": "code",
   "execution_count": 1,
   "metadata": {},
   "outputs": [],
   "source": [
    "users = [{\"id\": 0, \"name\": \"Hero\"},\n",
    "         {\"id\": 1, \"name\": \"Dunn\"},\n",
    "         {\"id\": 2, \"name\": \"Sue\"},\n",
    "         {\"id\": 3, \"name\": \"Chi\"},\n",
    "         {\"id\": 4, \"name\": \"Thor\"},\n",
    "         {\"id\": 5, \"name\": \"Clive\"},\n",
    "         {\"id\": 6, \"name\": \"Hicks\"},\n",
    "         {\"id\": 7, \"name\": \"Devin\"},\n",
    "         {\"id\": 8, \"name\": \"Kate\"},\n",
    "         {\"id\": 9, \"name\": \"Klein\"}]"
   ]
  },
  {
   "cell_type": "code",
   "execution_count": null,
   "metadata": {},
   "outputs": [],
   "source": [
    "friendship_pairs = [(0,1), (0,2), (1,2), (1,3), (), (0,1),\n",
    "                    (0,1), (0,1), (0,1), (0,1), (0,1), (0,1)]"
   ]
  }
 ],
 "metadata": {
  "kernelspec": {
   "display_name": "Python 3.7.6 64-bit ('base': conda)",
   "language": "python",
   "name": "python37664bitbaseconda7886b02c210b4787b5024f578af5cce4"
  },
  "language_info": {
   "codemirror_mode": {
    "name": "ipython",
    "version": 3
   },
   "file_extension": ".py",
   "mimetype": "text/x-python",
   "name": "python",
   "nbconvert_exporter": "python",
   "pygments_lexer": "ipython3",
   "version": "3.7.6"
  }
 },
 "nbformat": 4,
 "nbformat_minor": 4
}
